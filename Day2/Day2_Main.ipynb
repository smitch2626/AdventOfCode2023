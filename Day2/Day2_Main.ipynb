{
 "cells": [
  {
   "cell_type": "code",
   "execution_count": 47,
   "id": "e5880223-bc2e-4dd2-b953-5d787032688a",
   "metadata": {},
   "outputs": [],
   "source": [
    "#import\n",
    "import pandas as pd\n",
    "import os\n",
    "with open(os.path.join(\"..\",\"aocSessionId.txt\")) as f:\n",
    "    aoc_session = f.read()\n",
    "os.environ['AOC_SESSION'] = aoc_session\n",
    "from aocd import get_data\n",
    "import re\n",
    "from parse import parse"
   ]
  },
  {
   "cell_type": "code",
   "execution_count": 62,
   "id": "f674855b-edf1-4d6b-9e35-62397b199f67",
   "metadata": {},
   "outputs": [
    {
     "ename": "SyntaxError",
     "evalue": "unterminated string literal (detected at line 11) (3243519968.py, line 11)",
     "output_type": "error",
     "traceback": [
      "\u001b[1;36m  Cell \u001b[1;32mIn[62], line 11\u001b[1;36m\u001b[0m\n\u001b[1;33m    day2Data['red'][i] = parse('{colour}{x}{number}', colourValues)['colour]\u001b[0m\n\u001b[1;37m                                                                    ^\u001b[0m\n\u001b[1;31mSyntaxError\u001b[0m\u001b[1;31m:\u001b[0m unterminated string literal (detected at line 11)\n"
     ]
    }
   ],
   "source": [
    "data = get_data(day=2, year=2023)\n",
    "data\n",
    "day2Data = pd.DataFrame([rows.split(':') for rows in data.split('\\n')])\n",
    "day2Data = day2Data.rename(columns={0:\"gameNo\",1:\"outcomes\"})\n",
    "gameNames = day2Data['gameNo']\n",
    "day2Data['outcomes'] = day2Data['outcomes'].str.split(';')\n",
    "day2Data = day2Data.explode('outcomes').reset_index(drop=True)\n",
    "for i, indexN in day2Data.iterrows():\n",
    "    for colourValues in day2Data['outcomes'][i].split(','):\n",
    "        if 'red' in colourValues.lower():\n",
    "            day2Data['red'][i] = parse('{colour}{x}{number}', colourValues)['colour]\n",
    "print(day2Data)"
   ]
  },
  {
   "cell_type": "markdown",
   "id": "93e87ac6-0099-4bd8-b02e-2845348a4640",
   "metadata": {},
   "source": [
    "Each group of dice is put back before the next group of dice is pulled per game"
   ]
  },
  {
   "cell_type": "code",
   "execution_count": 61,
   "id": "1d487d8b-3c05-4992-8afd-7b79caefe62d",
   "metadata": {},
   "outputs": [
    {
     "name": "stdout",
     "output_type": "stream",
     "text": [
      "e\n"
     ]
    }
   ],
   "source": [
    "poop = 'red: 12'\n",
    "print(parse('{colour}{x}{number}', poop)['x'])"
   ]
  },
  {
   "cell_type": "code",
   "execution_count": 42,
   "id": "aa03faa9-7695-4031-828a-10c2731b859e",
   "metadata": {},
   "outputs": [
    {
     "name": "stdout",
     "output_type": "stream",
     "text": [
      "       gameNo                   outcomes\n",
      "0      Game 1    10 red, 7 green, 3 blue\n",
      "1      Game 1    5 blue, 3 red, 10 green\n",
      "2      Game 1    4 blue, 14 green, 7 red\n",
      "3      Game 1            1 red, 11 green\n",
      "4      Game 1   6 blue, 17 green, 15 red\n",
      "..        ...                        ...\n",
      "459  Game 100             2 red, 5 green\n",
      "460  Game 100                      9 red\n",
      "461  Game 100    1 blue, 3 green, 10 red\n",
      "462  Game 100     1 red, 5 blue, 3 green\n",
      "463  Game 100             12 blue, 9 red\n",
      "\n",
      "[464 rows x 2 columns]\n"
     ]
    }
   ],
   "source": [
    "print(day2Data)"
   ]
  },
  {
   "cell_type": "code",
   "execution_count": null,
   "id": "5e6fae78-3cdc-4da8-9c84-83be4bb318bf",
   "metadata": {},
   "outputs": [],
   "source": [
    "parse"
   ]
  }
 ],
 "metadata": {
  "kernelspec": {
   "display_name": "Python 3 (ipykernel)",
   "language": "python",
   "name": "python3"
  },
  "language_info": {
   "codemirror_mode": {
    "name": "ipython",
    "version": 3
   },
   "file_extension": ".py",
   "mimetype": "text/x-python",
   "name": "python",
   "nbconvert_exporter": "python",
   "pygments_lexer": "ipython3",
   "version": "3.11.0"
  }
 },
 "nbformat": 4,
 "nbformat_minor": 5
}
