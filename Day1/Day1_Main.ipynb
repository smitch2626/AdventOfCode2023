{
 "cells": [
  {
   "cell_type": "code",
   "execution_count": 1,
   "id": "55f9285b-69f6-4ed1-ab88-a7e672e6bc46",
   "metadata": {},
   "outputs": [],
   "source": [
    "#import\n",
    "import pandas as pd\n",
    "import os\n",
    "with open(os.path.join(\"..\",\"aocSessionId.txt\")) as f:\n",
    "    aoc_session = f.read()\n",
    "os.environ['AOC_SESSION'] = aoc_session\n",
    "from aocd import get_data\n",
    "import re"
   ]
  },
  {
   "cell_type": "markdown",
   "id": "e7b355fa-cc29-4875-bd56-4178a273a790",
   "metadata": {},
   "source": [
    "## Part One"
   ]
  },
  {
   "cell_type": "markdown",
   "id": "3efebdde-42d5-4efe-92b6-113c83af7afe",
   "metadata": {},
   "source": [
    "Pulling the data and putting it into a dataframe."
   ]
  },
  {
   "cell_type": "code",
   "execution_count": 2,
   "id": "23d813e2-df4c-46de-aeb2-3e0c6370dceb",
   "metadata": {},
   "outputs": [
    {
     "name": "stdout",
     "output_type": "stream",
     "text": [
      "                                      calibrationValue\n",
      "0                  fivepqxlpninevh2xxsnsgg63pbvdnqptmg\n",
      "1                 eight8zlctbmsixhrvbpjb84nnmlcqkzrsix\n",
      "2    hkxqfrqmsixfplbkpkdfzzszjxmdjtdkjlprrvr3gghlrq...\n",
      "3                               zkjkctxvssix1dqb22five\n",
      "4                                            4dtlmkfnm\n",
      "..                                                 ...\n",
      "995                      pptwo6sevenfivevlgs8threegbpc\n",
      "996                      ctwoneone7dtztzrk3ninefivexvj\n",
      "997                               1oneninegspfm3four43\n",
      "998                  sixfourgkdlxtqmbzkgmpmcsevenhzrt4\n",
      "999                             eight6twojtzlvlhgjncvx\n",
      "\n",
      "[1000 rows x 1 columns]\n"
     ]
    }
   ],
   "source": [
    "# day1Data = day1DataLoader.read_csv(get_data(day=1, year=2023),sep='/',header=None)\n",
    "data = get_data(day=1, year=2023)\n",
    "day1Data = pd.DataFrame([x.split(';') for x in data.split('\\n')])\n",
    "day1Data = day1Data.rename(columns={0:\"calibrationValue\"})\n",
    "print(day1Data)"
   ]
  },
  {
   "cell_type": "markdown",
   "id": "b82a7448-7fd3-4b3d-9cc7-4809b6468f7f",
   "metadata": {},
   "source": [
    "Iterating through each row in the dataframe and indexing the first and last numerical digit, summing these through the process."
   ]
  },
  {
   "cell_type": "code",
   "execution_count": 3,
   "id": "b4efac7e-655f-4849-be15-3b6cc5452b74",
   "metadata": {},
   "outputs": [
    {
     "name": "stdout",
     "output_type": "stream",
     "text": [
      "Answer to part 1:  53651\n"
     ]
    }
   ],
   "source": [
    "totalNumericalValue = 0\n",
    "\n",
    "for i in day1Data[\"calibrationValue\"]:\n",
    "    numericalOnly = re.sub(\"[^0-9]\", \"\", i)\n",
    "    totalNumericalValue += int(numericalOnly[:1] + numericalOnly[-1:])\n",
    "\n",
    "print(\"Answer to part 1: \",totalNumericalValue)"
   ]
  },
  {
   "cell_type": "markdown",
   "id": "d52a98a8-b4d4-4910-b139-1f360fbaa0a7",
   "metadata": {},
   "source": [
    "## Part Two"
   ]
  },
  {
   "cell_type": "markdown",
   "id": "17884287-5dcf-4acf-b87f-46f4a3c77d73",
   "metadata": {},
   "source": [
    "Potential gotchas:\n",
    "- A written letter may use letters from another written letter\n",
    "- There may be upper case letters in the data\n",
    "- An instance of a number may occur more than once (important for when searching)\n",
    "- A written number such as \"one\" might be the only thing present in a line (the gotcha that got me)"
   ]
  },
  {
   "cell_type": "code",
   "execution_count": 4,
   "id": "a62f7857-badd-485d-8dc6-a32531c84d78",
   "metadata": {},
   "outputs": [],
   "source": [
    "numberLookupDict = {\n",
    "    'one': 1,\n",
    "    'two': 2,\n",
    "    'three': 3, \n",
    "    'four': 4,\n",
    "    'five': 5,\n",
    "    'six': 6,\n",
    "    'seven': 7,\n",
    "    'eight': 8,\n",
    "    'nine': 9\n",
    "}"
   ]
  },
  {
   "cell_type": "code",
   "execution_count": 5,
   "id": "6fd98334-05b6-4f06-ad29-f14834e9d6e5",
   "metadata": {},
   "outputs": [
    {
     "name": "stdout",
     "output_type": "stream",
     "text": [
      "Answer to part 2:  53894\n"
     ]
    }
   ],
   "source": [
    "totalAlphaNumericalValue = 0\n",
    "for i in day1Data[\"calibrationValue\"]: # iterates through all lines in data\n",
    "    lowestIndex = 99999999\n",
    "    lowestNumber = 99999999\n",
    "    highestIndex = 0\n",
    "    highestNumber = 0 # assigns arbitrary figures to be overwritten\n",
    "    for key in numberLookupDict.keys(): # iterates through string numbers from numberLookupDict\n",
    "        for match in re.finditer(key, i): #iterates through matches in numberLookupDict\n",
    "            if int(match.start()) < lowestIndex: \n",
    "                lowestIndex = int(match.start())\n",
    "                lowestNumber = numberLookupDict[key]\n",
    "            if int(match.start()) >= highestIndex:\n",
    "                highestIndex = int(match.start())\n",
    "                highestNumber = numberLookupDict[key]\n",
    "    for match in re.finditer('\\d', i):\n",
    "        matchIndex = int(match.start())\n",
    "        if int(match.start()) < lowestIndex:\n",
    "                lowestIndex = int(match.start())\n",
    "                lowestNumber = int(i[matchIndex])\n",
    "        if int(match.start()) >= highestIndex:\n",
    "            highestIndex = int(match.start())\n",
    "            highestNumber = int(i[matchIndex])\n",
    "    totalAlphaNumericalValue += int(str(lowestNumber) + str(highestNumber))\n",
    "print(\"Answer to part 2: \",totalAlphaNumericalValue)"
   ]
  }
 ],
 "metadata": {
  "kernelspec": {
   "display_name": "Python 3 (ipykernel)",
   "language": "python",
   "name": "python3"
  },
  "language_info": {
   "codemirror_mode": {
    "name": "ipython",
    "version": 3
   },
   "file_extension": ".py",
   "mimetype": "text/x-python",
   "name": "python",
   "nbconvert_exporter": "python",
   "pygments_lexer": "ipython3",
   "version": "3.11.0"
  }
 },
 "nbformat": 4,
 "nbformat_minor": 5
}
